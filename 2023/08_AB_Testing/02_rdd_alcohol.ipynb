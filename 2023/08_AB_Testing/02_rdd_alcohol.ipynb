{
 "cells": [
  {
   "cell_type": "markdown",
   "id": "2ab85529",
   "metadata": {},
   "source": [
    "# Regression Discontinuity Design\n",
    "This is an example from Causal Inference for the Brave and True (\n",
    "https://matheusfacure.github.io/python-causality-handbook/16-Regression-Discontinuity-Design.html ).\n",
    "The underlying article is: *The Effect of Alcohol Consumption on Mortality: Regression Discontinuity Evidence from the Minimum Drinking Age* (https://www.aeaweb.org/articles?id=10.1257/app.1.1.164).\n"
   ]
  },
  {
   "cell_type": "code",
   "execution_count": 1,
   "id": "e756e67a",
   "metadata": {},
   "outputs": [],
   "source": [
    "import pandas as pd\n",
    "import numpy as np\n",
    "from matplotlib import style\n",
    "from matplotlib import pyplot as plt\n",
    "import seaborn as sns\n",
    "import statsmodels.formula.api as smf\n",
    "from stargazer.stargazer import Stargazer"
   ]
  },
  {
   "cell_type": "code",
   "execution_count": 4,
   "id": "2b0c9023",
   "metadata": {},
   "outputs": [
    {
     "data": {
      "text/html": [
       "<div>\n",
       "<style scoped>\n",
       "    .dataframe tbody tr th:only-of-type {\n",
       "        vertical-align: middle;\n",
       "    }\n",
       "\n",
       "    .dataframe tbody tr th {\n",
       "        vertical-align: top;\n",
       "    }\n",
       "\n",
       "    .dataframe thead th {\n",
       "        text-align: right;\n",
       "    }\n",
       "</style>\n",
       "<table border=\"1\" class=\"dataframe\">\n",
       "  <thead>\n",
       "    <tr style=\"text-align: right;\">\n",
       "      <th></th>\n",
       "      <th>agecell</th>\n",
       "      <th>all</th>\n",
       "      <th>allfitted</th>\n",
       "      <th>internal</th>\n",
       "      <th>internalfitted</th>\n",
       "      <th>external</th>\n",
       "      <th>externalfitted</th>\n",
       "      <th>alcohol</th>\n",
       "      <th>alcoholfitted</th>\n",
       "      <th>homicide</th>\n",
       "      <th>...</th>\n",
       "      <th>suicidefitted</th>\n",
       "      <th>mva</th>\n",
       "      <th>mvafitted</th>\n",
       "      <th>drugs</th>\n",
       "      <th>drugsfitted</th>\n",
       "      <th>externalother</th>\n",
       "      <th>externalotherfitted</th>\n",
       "      <th>Unnamed: 19</th>\n",
       "      <th>age_2</th>\n",
       "      <th>age_d</th>\n",
       "    </tr>\n",
       "  </thead>\n",
       "  <tbody>\n",
       "    <tr>\n",
       "      <th>count</th>\n",
       "      <td>50.000000</td>\n",
       "      <td>48.000000</td>\n",
       "      <td>50.000000</td>\n",
       "      <td>48.000000</td>\n",
       "      <td>50.000000</td>\n",
       "      <td>48.000000</td>\n",
       "      <td>50.000000</td>\n",
       "      <td>48.000000</td>\n",
       "      <td>50.000000</td>\n",
       "      <td>48.000000</td>\n",
       "      <td>...</td>\n",
       "      <td>50.000000</td>\n",
       "      <td>48.000000</td>\n",
       "      <td>50.000000</td>\n",
       "      <td>48.000000</td>\n",
       "      <td>50.000000</td>\n",
       "      <td>48.000000</td>\n",
       "      <td>50.000000</td>\n",
       "      <td>0.0</td>\n",
       "      <td>50.000000</td>\n",
       "      <td>50.000000</td>\n",
       "    </tr>\n",
       "    <tr>\n",
       "      <th>mean</th>\n",
       "      <td>21.000000</td>\n",
       "      <td>95.672725</td>\n",
       "      <td>95.802842</td>\n",
       "      <td>20.285291</td>\n",
       "      <td>20.281302</td>\n",
       "      <td>75.387433</td>\n",
       "      <td>75.521540</td>\n",
       "      <td>1.257337</td>\n",
       "      <td>1.267447</td>\n",
       "      <td>16.912068</td>\n",
       "      <td>...</td>\n",
       "      <td>12.362850</td>\n",
       "      <td>31.622984</td>\n",
       "      <td>31.679679</td>\n",
       "      <td>4.249660</td>\n",
       "      <td>4.255325</td>\n",
       "      <td>9.598514</td>\n",
       "      <td>9.610208</td>\n",
       "      <td>NaN</td>\n",
       "      <td>442.244623</td>\n",
       "      <td>10.553425</td>\n",
       "    </tr>\n",
       "    <tr>\n",
       "      <th>std</th>\n",
       "      <td>1.126957</td>\n",
       "      <td>3.831062</td>\n",
       "      <td>3.286415</td>\n",
       "      <td>2.253907</td>\n",
       "      <td>1.994682</td>\n",
       "      <td>2.986007</td>\n",
       "      <td>2.269975</td>\n",
       "      <td>0.350312</td>\n",
       "      <td>0.259862</td>\n",
       "      <td>0.729982</td>\n",
       "      <td>...</td>\n",
       "      <td>0.759736</td>\n",
       "      <td>2.384977</td>\n",
       "      <td>2.003196</td>\n",
       "      <td>0.615579</td>\n",
       "      <td>0.521440</td>\n",
       "      <td>0.748369</td>\n",
       "      <td>0.465128</td>\n",
       "      <td>NaN</td>\n",
       "      <td>47.346785</td>\n",
       "      <td>11.103014</td>\n",
       "    </tr>\n",
       "    <tr>\n",
       "      <th>min</th>\n",
       "      <td>19.068493</td>\n",
       "      <td>88.427760</td>\n",
       "      <td>91.706150</td>\n",
       "      <td>15.977087</td>\n",
       "      <td>16.738130</td>\n",
       "      <td>71.341415</td>\n",
       "      <td>73.157860</td>\n",
       "      <td>0.639138</td>\n",
       "      <td>0.794345</td>\n",
       "      <td>14.947726</td>\n",
       "      <td>...</td>\n",
       "      <td>11.592100</td>\n",
       "      <td>26.855064</td>\n",
       "      <td>27.868282</td>\n",
       "      <td>3.202071</td>\n",
       "      <td>3.448835</td>\n",
       "      <td>7.972546</td>\n",
       "      <td>8.388236</td>\n",
       "      <td>NaN</td>\n",
       "      <td>363.607425</td>\n",
       "      <td>0.000000</td>\n",
       "    </tr>\n",
       "    <tr>\n",
       "      <th>25%</th>\n",
       "      <td>20.075342</td>\n",
       "      <td>92.785927</td>\n",
       "      <td>93.040603</td>\n",
       "      <td>18.597655</td>\n",
       "      <td>18.674128</td>\n",
       "      <td>73.042023</td>\n",
       "      <td>74.061250</td>\n",
       "      <td>0.996152</td>\n",
       "      <td>1.072381</td>\n",
       "      <td>16.611996</td>\n",
       "      <td>...</td>\n",
       "      <td>11.612642</td>\n",
       "      <td>30.116604</td>\n",
       "      <td>30.167032</td>\n",
       "      <td>3.754717</td>\n",
       "      <td>3.768833</td>\n",
       "      <td>9.148840</td>\n",
       "      <td>9.347155</td>\n",
       "      <td>NaN</td>\n",
       "      <td>403.020623</td>\n",
       "      <td>0.000000</td>\n",
       "    </tr>\n",
       "    <tr>\n",
       "      <th>50%</th>\n",
       "      <td>20.999995</td>\n",
       "      <td>95.686270</td>\n",
       "      <td>95.178303</td>\n",
       "      <td>20.288866</td>\n",
       "      <td>20.537064</td>\n",
       "      <td>74.813250</td>\n",
       "      <td>74.736387</td>\n",
       "      <td>1.211941</td>\n",
       "      <td>1.247127</td>\n",
       "      <td>16.985353</td>\n",
       "      <td>...</td>\n",
       "      <td>12.253097</td>\n",
       "      <td>31.641135</td>\n",
       "      <td>31.732579</td>\n",
       "      <td>4.314018</td>\n",
       "      <td>4.322989</td>\n",
       "      <td>9.560834</td>\n",
       "      <td>9.690198</td>\n",
       "      <td>NaN</td>\n",
       "      <td>440.999790</td>\n",
       "      <td>0.000000</td>\n",
       "    </tr>\n",
       "    <tr>\n",
       "      <th>75%</th>\n",
       "      <td>21.924658</td>\n",
       "      <td>98.025753</td>\n",
       "      <td>97.786825</td>\n",
       "      <td>21.976349</td>\n",
       "      <td>21.658084</td>\n",
       "      <td>77.242347</td>\n",
       "      <td>76.063623</td>\n",
       "      <td>1.470119</td>\n",
       "      <td>1.445450</td>\n",
       "      <td>17.288066</td>\n",
       "      <td>...</td>\n",
       "      <td>13.036209</td>\n",
       "      <td>33.096747</td>\n",
       "      <td>33.395112</td>\n",
       "      <td>4.756345</td>\n",
       "      <td>4.679171</td>\n",
       "      <td>10.122496</td>\n",
       "      <td>9.938511</td>\n",
       "      <td>NaN</td>\n",
       "      <td>480.691895</td>\n",
       "      <td>21.924658</td>\n",
       "    </tr>\n",
       "    <tr>\n",
       "      <th>max</th>\n",
       "      <td>22.931507</td>\n",
       "      <td>105.268350</td>\n",
       "      <td>102.891760</td>\n",
       "      <td>24.372910</td>\n",
       "      <td>24.043783</td>\n",
       "      <td>83.330986</td>\n",
       "      <td>81.783720</td>\n",
       "      <td>2.519309</td>\n",
       "      <td>1.817360</td>\n",
       "      <td>18.410973</td>\n",
       "      <td>...</td>\n",
       "      <td>13.547069</td>\n",
       "      <td>36.385197</td>\n",
       "      <td>34.817780</td>\n",
       "      <td>5.564563</td>\n",
       "      <td>5.130238</td>\n",
       "      <td>11.482519</td>\n",
       "      <td>10.353402</td>\n",
       "      <td>NaN</td>\n",
       "      <td>525.854013</td>\n",
       "      <td>22.931507</td>\n",
       "    </tr>\n",
       "  </tbody>\n",
       "</table>\n",
       "<p>8 rows × 22 columns</p>\n",
       "</div>"
      ],
      "text/plain": [
       "         agecell         all   allfitted   internal  internalfitted  \\\n",
       "count  50.000000   48.000000   50.000000  48.000000       50.000000   \n",
       "mean   21.000000   95.672725   95.802842  20.285291       20.281302   \n",
       "std     1.126957    3.831062    3.286415   2.253907        1.994682   \n",
       "min    19.068493   88.427760   91.706150  15.977087       16.738130   \n",
       "25%    20.075342   92.785927   93.040603  18.597655       18.674128   \n",
       "50%    20.999995   95.686270   95.178303  20.288866       20.537064   \n",
       "75%    21.924658   98.025753   97.786825  21.976349       21.658084   \n",
       "max    22.931507  105.268350  102.891760  24.372910       24.043783   \n",
       "\n",
       "        external  externalfitted    alcohol  alcoholfitted   homicide  ...  \\\n",
       "count  48.000000       50.000000  48.000000      50.000000  48.000000  ...   \n",
       "mean   75.387433       75.521540   1.257337       1.267447  16.912068  ...   \n",
       "std     2.986007        2.269975   0.350312       0.259862   0.729982  ...   \n",
       "min    71.341415       73.157860   0.639138       0.794345  14.947726  ...   \n",
       "25%    73.042023       74.061250   0.996152       1.072381  16.611996  ...   \n",
       "50%    74.813250       74.736387   1.211941       1.247127  16.985353  ...   \n",
       "75%    77.242347       76.063623   1.470119       1.445450  17.288066  ...   \n",
       "max    83.330986       81.783720   2.519309       1.817360  18.410973  ...   \n",
       "\n",
       "       suicidefitted        mva  mvafitted      drugs  drugsfitted  \\\n",
       "count      50.000000  48.000000  50.000000  48.000000    50.000000   \n",
       "mean       12.362850  31.622984  31.679679   4.249660     4.255325   \n",
       "std         0.759736   2.384977   2.003196   0.615579     0.521440   \n",
       "min        11.592100  26.855064  27.868282   3.202071     3.448835   \n",
       "25%        11.612642  30.116604  30.167032   3.754717     3.768833   \n",
       "50%        12.253097  31.641135  31.732579   4.314018     4.322989   \n",
       "75%        13.036209  33.096747  33.395112   4.756345     4.679171   \n",
       "max        13.547069  36.385197  34.817780   5.564563     5.130238   \n",
       "\n",
       "       externalother  externalotherfitted  Unnamed: 19       age_2      age_d  \n",
       "count      48.000000            50.000000          0.0   50.000000  50.000000  \n",
       "mean        9.598514             9.610208          NaN  442.244623  10.553425  \n",
       "std         0.748369             0.465128          NaN   47.346785  11.103014  \n",
       "min         7.972546             8.388236          NaN  363.607425   0.000000  \n",
       "25%         9.148840             9.347155          NaN  403.020623   0.000000  \n",
       "50%         9.560834             9.690198          NaN  440.999790   0.000000  \n",
       "75%        10.122496             9.938511          NaN  480.691895  21.924658  \n",
       "max        11.482519            10.353402          NaN  525.854013  22.931507  \n",
       "\n",
       "[8 rows x 22 columns]"
      ]
     },
     "execution_count": 4,
     "metadata": {},
     "output_type": "execute_result"
    }
   ],
   "source": [
    "#import the data\n",
    "df = pd.read_csv(\"./deaths.csv\")\n",
    "#generate a threshold dummy taking the value 1 above 21 years old\n",
    "df['threshold'] = (df[\"agecell\"] > 21)\n",
    "#We might need for later also a variable squared and an interaction\n",
    "df['age_2'] = (df[\"agecell\"]*df[\"agecell\"])\n",
    "df['age_d'] = (df[\"agecell\"]*df[\"threshold\"])\n",
    "df.describe()"
   ]
  },
  {
   "cell_type": "code",
   "execution_count": 3,
   "id": "0f988d9f",
   "metadata": {},
   "outputs": [
    {
     "data": {
      "text/plain": [
       "Text(0.5, 0, '')"
      ]
     },
     "execution_count": 3,
     "metadata": {},
     "output_type": "execute_result"
    },
    {
     "data": {
      "image/png": "[encoded data removed]",
      "text/plain": [
       "<Figure size 576x576 with 3 Axes>"
      ]
     },
     "metadata": {
      "needs_background": "light"
     },
     "output_type": "display_data"
    }
   ],
   "source": [
    "#First let's plot mortality rate (deaths/100k)\n",
    "#For all type of deaths\n",
    "plt.figure(figsize=(8,8))\n",
    "ax = plt.subplot(3,1,1)\n",
    "sns.scatterplot(x='agecell', y='all', data=df)\n",
    "plt.title(\"Death Cause by Age \")\n",
    "plt.axvline(21, 0,105, color=\"red\")\n",
    "plt.ylabel('Death cause: all')\n",
    "plt.xlabel('')\n",
    "\n",
    "#For moving vehicule accident\n",
    "ax = plt.subplot(3,1,2, sharex=ax)\n",
    "sns.scatterplot(x='agecell', y='mva', data=df)\n",
    "plt.axvline(21, 0,105, color=\"red\")\n",
    "plt.ylabel('Death cause: Moving Vehicule')\n",
    "plt.xlabel('')\n",
    "\n",
    "#For internal causes \n",
    "ax = plt.subplot(3,1,3, sharex=ax)\n",
    "sns.scatterplot(x='agecell', y='internal', data=df)\n",
    "plt.axvline(21, 0,105, color=\"red\")\n",
    "plt.ylabel('Death cause: Internal')\n",
    "plt.xlabel('')"
   ]
  },
  {
   "cell_type": "code",
   "execution_count": 16,
   "id": "12285064",
   "metadata": {},
   "outputs": [
    {
     "data": {
      "text/plain": [
       "<matplotlib.lines.Line2D at 0x1a19e8e1670>"
      ]
     },
     "execution_count": 16,
     "metadata": {},
     "output_type": "execute_result"
    },
    {
     "data": {
      "image/png": "[encoded data removed]",
      "text/plain": [
       "<Figure size 432x288 with 1 Axes>"
      ]
     },
     "metadata": {
      "needs_background": "light"
     },
     "output_type": "display_data"
    }
   ],
   "source": [
    "#This model allows to have a discontinuity but also a change of slope (interaction)\n",
    "model = smf.wls(\"all~agecell+threshold+agecell*threshold\", df).fit()\n",
    "\n",
    "ax = df.plot.scatter(x=\"agecell\", y=\"all\", color=\"C0\")\n",
    "df.assign(predictions=model.fittedvalues).plot(x=\"agecell\", y=\"predictions\", ax=ax, color=\"C1\")\n",
    "plt.title(\"Regression Discontinuity\")\n",
    "plt.axvline(21, 0,105, color=\"red\")"
   ]
  },
  {
   "cell_type": "code",
   "execution_count": 13,
   "id": "f71d7bc9",
   "metadata": {},
   "outputs": [
    {
     "data": {
      "text/html": [
       "<table class=\"simpletable\">\n",
       "<tr>\n",
       "              <td></td>                 <th>coef</th>     <th>std err</th>      <th>t</th>      <th>P>|t|</th>  <th>[0.025</th>    <th>0.975]</th>  \n",
       "</tr>\n",
       "<tr>\n",
       "  <th>Intercept</th>                 <td>   76.2515</td> <td>   16.396</td> <td>    4.650</td> <td> 0.000</td> <td>   43.207</td> <td>  109.296</td>\n",
       "</tr>\n",
       "<tr>\n",
       "  <th>threshold[T.True]</th>         <td>   83.3333</td> <td>   24.357</td> <td>    3.421</td> <td> 0.001</td> <td>   34.245</td> <td>  132.421</td>\n",
       "</tr>\n",
       "<tr>\n",
       "  <th>agecell</th>                   <td>    0.8270</td> <td>    0.819</td> <td>    1.010</td> <td> 0.318</td> <td>   -0.823</td> <td>    2.477</td>\n",
       "</tr>\n",
       "<tr>\n",
       "  <th>agecell:threshold[T.True]</th> <td>   -3.6034</td> <td>    1.158</td> <td>   -3.111</td> <td> 0.003</td> <td>   -5.937</td> <td>   -1.269</td>\n",
       "</tr>\n",
       "</table>"
      ],
      "text/plain": [
       "<class 'statsmodels.iolib.table.SimpleTable'>"
      ]
     },
     "execution_count": 13,
     "metadata": {},
     "output_type": "execute_result"
    }
   ],
   "source": [
    "model.summary().tables[1]"
   ]
  },
  {
   "cell_type": "code",
   "execution_count": 17,
   "id": "2c26d77d",
   "metadata": {},
   "outputs": [
    {
     "data": {
      "text/plain": [
       "<Figure size 576x576 with 0 Axes>"
      ]
     },
     "metadata": {},
     "output_type": "display_data"
    },
    {
     "data": {
      "image/png": "[encoded data removed]",
      "text/plain": [
       "<Figure size 432x288 with 1 Axes>"
      ]
     },
     "metadata": {
      "needs_background": "light"
     },
     "output_type": "display_data"
    }
   ],
   "source": [
    "#functional form\n",
    "plt.figure(figsize=(8,8))\n",
    "#ax = plt.subplot(3,1,1)\n",
    "ax = df.plot.scatter(x='agecell', y='mva', color=\"C0\")\n",
    "sns.scatterplot(x='agecell', y='mva', data=df)\n",
    "plt.title(\"Death Cause by Age \")\n",
    "plt.axvline(21, 0,105, color=\"red\")\n",
    "plt.ylabel('Death cause: moving vehicle accident')\n",
    "plt.xlabel('')\n",
    "\n",
    "model1 = smf.wls(\"mva~agecell+threshold\", df).fit()\n",
    "df.assign(predictions=model1.fittedvalues).plot(x=\"agecell\", y=\"predictions\", ax=ax, color=\"C1\")\n",
    "plt.title(\"Regression Discontinuity\");"
   ]
  },
  {
   "cell_type": "code",
   "execution_count": 18,
   "id": "f0b215e6",
   "metadata": {},
   "outputs": [
    {
     "data": {
      "text/plain": [
       "<Figure size 576x576 with 0 Axes>"
      ]
     },
     "metadata": {},
     "output_type": "display_data"
    },
    {
     "data": {
      "image/png": "[encoded data removed]",
      "text/plain": [
       "<Figure size 432x288 with 1 Axes>"
      ]
     },
     "metadata": {
      "needs_background": "light"
     },
     "output_type": "display_data"
    }
   ],
   "source": [
    "#functional form\n",
    "plt.figure(figsize=(8,8))\n",
    "#ax = plt.subplot(3,1,1)\n",
    "ax = df.plot.scatter(x='agecell', y='mva', color=\"C0\")\n",
    "sns.scatterplot(x='agecell', y='mva', data=df)\n",
    "plt.title(\"Death Cause by Age \")\n",
    "plt.axvline(21, 0,105, color=\"red\")\n",
    "plt.ylabel('Death cause: mva')\n",
    "plt.xlabel('')\n",
    "\n",
    "model2 = smf.wls(\"mva~agecell+age_2+threshold\", df).fit()\n",
    "\n",
    "df.assign(predictions=model2.fittedvalues).plot(x=\"agecell\", y=\"predictions\", ax=ax, color=\"C1\")\n",
    "plt.title(\"Regression Discontinuity\");"
   ]
  },
  {
   "cell_type": "code",
   "execution_count": 6,
   "id": "ddd77f78",
   "metadata": {},
   "outputs": [
    {
     "data": {
      "text/html": [
       "<table class=\"simpletable\">\n",
       "<caption>WLS Regression Results</caption>\n",
       "<tr>\n",
       "  <th>Dep. Variable:</th>           <td>mva</td>       <th>  R-squared:         </th> <td>   0.703</td>\n",
       "</tr>\n",
       "<tr>\n",
       "  <th>Model:</th>                   <td>WLS</td>       <th>  Adj. R-squared:    </th> <td>   0.689</td>\n",
       "</tr>\n",
       "<tr>\n",
       "  <th>Method:</th>             <td>Least Squares</td>  <th>  F-statistic:       </th> <td>   53.14</td>\n",
       "</tr>\n",
       "<tr>\n",
       "  <th>Date:</th>             <td>Mon, 12 Sep 2022</td> <th>  Prob (F-statistic):</th> <td>1.42e-12</td>\n",
       "</tr>\n",
       "<tr>\n",
       "  <th>Time:</th>                 <td>15:47:59</td>     <th>  Log-Likelihood:    </th> <td> -80.225</td>\n",
       "</tr>\n",
       "<tr>\n",
       "  <th>No. Observations:</th>      <td>    48</td>      <th>  AIC:               </th> <td>   166.4</td>\n",
       "</tr>\n",
       "<tr>\n",
       "  <th>Df Residuals:</th>          <td>    45</td>      <th>  BIC:               </th> <td>   172.1</td>\n",
       "</tr>\n",
       "<tr>\n",
       "  <th>Df Model:</th>              <td>     2</td>      <th>                     </th>     <td> </td>   \n",
       "</tr>\n",
       "<tr>\n",
       "  <th>Covariance Type:</th>      <td>nonrobust</td>    <th>                     </th>     <td> </td>   \n",
       "</tr>\n",
       "</table>\n",
       "<table class=\"simpletable\">\n",
       "<tr>\n",
       "      <td></td>         <th>coef</th>     <th>std err</th>      <th>t</th>      <th>P>|t|</th>  <th>[0.025</th>    <th>0.975]</th>  \n",
       "</tr>\n",
       "<tr>\n",
       "  <th>Intercept</th> <td>   95.4814</td> <td>    6.755</td> <td>   14.135</td> <td> 0.000</td> <td>   81.876</td> <td>  109.087</td>\n",
       "</tr>\n",
       "<tr>\n",
       "  <th>agecell</th>   <td>   -3.1488</td> <td>    0.337</td> <td>   -9.337</td> <td> 0.000</td> <td>   -3.828</td> <td>   -2.470</td>\n",
       "</tr>\n",
       "<tr>\n",
       "  <th>threshold</th> <td>    4.5340</td> <td>    0.768</td> <td>    5.904</td> <td> 0.000</td> <td>    2.987</td> <td>    6.081</td>\n",
       "</tr>\n",
       "</table>\n",
       "<table class=\"simpletable\">\n",
       "<tr>\n",
       "  <th>Omnibus:</th>       <td> 1.492</td> <th>  Durbin-Watson:     </th> <td>   1.514</td>\n",
       "</tr>\n",
       "<tr>\n",
       "  <th>Prob(Omnibus):</th> <td> 0.474</td> <th>  Jarque-Bera (JB):  </th> <td>   1.227</td>\n",
       "</tr>\n",
       "<tr>\n",
       "  <th>Skew:</th>          <td> 0.388</td> <th>  Prob(JB):          </th> <td>   0.542</td>\n",
       "</tr>\n",
       "<tr>\n",
       "  <th>Kurtosis:</th>      <td> 2.888</td> <th>  Cond. No.          </th> <td>    746.</td>\n",
       "</tr>\n",
       "</table><br/><br/>Notes:<br/>[1] Standard Errors assume that the covariance matrix of the errors is correctly specified."
      ],
      "text/plain": [
       "<class 'statsmodels.iolib.summary.Summary'>\n",
       "\"\"\"\n",
       "                            WLS Regression Results                            \n",
       "==============================================================================\n",
       "Dep. Variable:                    mva   R-squared:                       0.703\n",
       "Model:                            WLS   Adj. R-squared:                  0.689\n",
       "Method:                 Least Squares   F-statistic:                     53.14\n",
       "Date:                Mon, 12 Sep 2022   Prob (F-statistic):           1.42e-12\n",
       "Time:                        15:47:59   Log-Likelihood:                -80.225\n",
       "No. Observations:                  48   AIC:                             166.4\n",
       "Df Residuals:                      45   BIC:                             172.1\n",
       "Df Model:                           2                                         \n",
       "Covariance Type:            nonrobust                                         \n",
       "==============================================================================\n",
       "                 coef    std err          t      P>|t|      [0.025      0.975]\n",
       "------------------------------------------------------------------------------\n",
       "Intercept     95.4814      6.755     14.135      0.000      81.876     109.087\n",
       "agecell       -3.1488      0.337     -9.337      0.000      -3.828      -2.470\n",
       "threshold      4.5340      0.768      5.904      0.000       2.987       6.081\n",
       "==============================================================================\n",
       "Omnibus:                        1.492   Durbin-Watson:                   1.514\n",
       "Prob(Omnibus):                  0.474   Jarque-Bera (JB):                1.227\n",
       "Skew:                           0.388   Prob(JB):                        0.542\n",
       "Kurtosis:                       2.888   Cond. No.                         746.\n",
       "==============================================================================\n",
       "\n",
       "Notes:\n",
       "[1] Standard Errors assume that the covariance matrix of the errors is correctly specified.\n",
       "\"\"\""
      ]
     },
     "execution_count": 6,
     "metadata": {},
     "output_type": "execute_result"
    }
   ],
   "source": [
    "model1.summary()"
   ]
  },
  {
   "cell_type": "code",
   "execution_count": 7,
   "id": "7397daa3",
   "metadata": {},
   "outputs": [
    {
     "data": {
      "text/html": [
       "<table class=\"simpletable\">\n",
       "<caption>WLS Regression Results</caption>\n",
       "<tr>\n",
       "  <th>Dep. Variable:</th>           <td>mva</td>       <th>  R-squared:         </th> <td>   0.722</td>\n",
       "</tr>\n",
       "<tr>\n",
       "  <th>Model:</th>                   <td>WLS</td>       <th>  Adj. R-squared:    </th> <td>   0.703</td>\n",
       "</tr>\n",
       "<tr>\n",
       "  <th>Method:</th>             <td>Least Squares</td>  <th>  F-statistic:       </th> <td>   38.03</td>\n",
       "</tr>\n",
       "<tr>\n",
       "  <th>Date:</th>             <td>Mon, 12 Sep 2022</td> <th>  Prob (F-statistic):</th> <td>2.78e-12</td>\n",
       "</tr>\n",
       "<tr>\n",
       "  <th>Time:</th>                 <td>15:47:59</td>     <th>  Log-Likelihood:    </th> <td> -78.629</td>\n",
       "</tr>\n",
       "<tr>\n",
       "  <th>No. Observations:</th>      <td>    48</td>      <th>  AIC:               </th> <td>   165.3</td>\n",
       "</tr>\n",
       "<tr>\n",
       "  <th>Df Residuals:</th>          <td>    44</td>      <th>  BIC:               </th> <td>   172.7</td>\n",
       "</tr>\n",
       "<tr>\n",
       "  <th>Df Model:</th>              <td>     3</td>      <th>                     </th>     <td> </td>   \n",
       "</tr>\n",
       "<tr>\n",
       "  <th>Covariance Type:</th>      <td>nonrobust</td>    <th>                     </th>     <td> </td>   \n",
       "</tr>\n",
       "</table>\n",
       "<table class=\"simpletable\">\n",
       "<tr>\n",
       "      <td></td>         <th>coef</th>     <th>std err</th>      <th>t</th>      <th>P>|t|</th>  <th>[0.025</th>    <th>0.975]</th>  \n",
       "</tr>\n",
       "<tr>\n",
       "  <th>Intercept</th> <td>  -28.3775</td> <td>   71.524</td> <td>   -0.397</td> <td> 0.693</td> <td> -172.524</td> <td>  115.769</td>\n",
       "</tr>\n",
       "<tr>\n",
       "  <th>agecell</th>   <td>    8.6820</td> <td>    6.811</td> <td>    1.275</td> <td> 0.209</td> <td>   -5.044</td> <td>   22.408</td>\n",
       "</tr>\n",
       "<tr>\n",
       "  <th>age_2</th>     <td>   -0.2817</td> <td>    0.162</td> <td>   -1.739</td> <td> 0.089</td> <td>   -0.608</td> <td>    0.045</td>\n",
       "</tr>\n",
       "<tr>\n",
       "  <th>threshold</th> <td>    4.5340</td> <td>    0.751</td> <td>    6.035</td> <td> 0.000</td> <td>    3.020</td> <td>    6.048</td>\n",
       "</tr>\n",
       "</table>\n",
       "<table class=\"simpletable\">\n",
       "<tr>\n",
       "  <th>Omnibus:</th>       <td> 1.421</td> <th>  Durbin-Watson:     </th> <td>   1.619</td>\n",
       "</tr>\n",
       "<tr>\n",
       "  <th>Prob(Omnibus):</th> <td> 0.491</td> <th>  Jarque-Bera (JB):  </th> <td>   1.308</td>\n",
       "</tr>\n",
       "<tr>\n",
       "  <th>Skew:</th>          <td> 0.386</td> <th>  Prob(JB):          </th> <td>   0.520</td>\n",
       "</tr>\n",
       "<tr>\n",
       "  <th>Kurtosis:</th>      <td> 2.757</td> <th>  Cond. No.          </th> <td>1.70e+05</td>\n",
       "</tr>\n",
       "</table><br/><br/>Notes:<br/>[1] Standard Errors assume that the covariance matrix of the errors is correctly specified.<br/>[2] The condition number is large, 1.7e+05. This might indicate that there are<br/>strong multicollinearity or other numerical problems."
      ],
      "text/plain": [
       "<class 'statsmodels.iolib.summary.Summary'>\n",
       "\"\"\"\n",
       "                            WLS Regression Results                            \n",
       "==============================================================================\n",
       "Dep. Variable:                    mva   R-squared:                       0.722\n",
       "Model:                            WLS   Adj. R-squared:                  0.703\n",
       "Method:                 Least Squares   F-statistic:                     38.03\n",
       "Date:                Mon, 12 Sep 2022   Prob (F-statistic):           2.78e-12\n",
       "Time:                        15:47:59   Log-Likelihood:                -78.629\n",
       "No. Observations:                  48   AIC:                             165.3\n",
       "Df Residuals:                      44   BIC:                             172.7\n",
       "Df Model:                           3                                         \n",
       "Covariance Type:            nonrobust                                         \n",
       "==============================================================================\n",
       "                 coef    std err          t      P>|t|      [0.025      0.975]\n",
       "------------------------------------------------------------------------------\n",
       "Intercept    -28.3775     71.524     -0.397      0.693    -172.524     115.769\n",
       "agecell        8.6820      6.811      1.275      0.209      -5.044      22.408\n",
       "age_2         -0.2817      0.162     -1.739      0.089      -0.608       0.045\n",
       "threshold      4.5340      0.751      6.035      0.000       3.020       6.048\n",
       "==============================================================================\n",
       "Omnibus:                        1.421   Durbin-Watson:                   1.619\n",
       "Prob(Omnibus):                  0.491   Jarque-Bera (JB):                1.308\n",
       "Skew:                           0.386   Prob(JB):                        0.520\n",
       "Kurtosis:                       2.757   Cond. No.                     1.70e+05\n",
       "==============================================================================\n",
       "\n",
       "Notes:\n",
       "[1] Standard Errors assume that the covariance matrix of the errors is correctly specified.\n",
       "[2] The condition number is large, 1.7e+05. This might indicate that there are\n",
       "strong multicollinearity or other numerical problems.\n",
       "\"\"\""
      ]
     },
     "execution_count": 7,
     "metadata": {},
     "output_type": "execute_result"
    }
   ],
   "source": [
    "model2.summary()"
   ]
  },
  {
   "cell_type": "code",
   "execution_count": 23,
   "id": "666ecaf1",
   "metadata": {},
   "outputs": [
    {
     "data": {
      "text/plain": [
       "<Figure size 576x576 with 0 Axes>"
      ]
     },
     "metadata": {},
     "output_type": "display_data"
    },
    {
     "data": {
      "image/png": "[encoded data removed]",
      "text/plain": [
       "<Figure size 432x288 with 1 Axes>"
      ]
     },
     "metadata": {
      "needs_background": "light"
     },
     "output_type": "display_data"
    }
   ],
   "source": [
    "#functional form\n",
    "plt.figure(figsize=(8,8))\n",
    "#ax = plt.subplot(3,1,1)\n",
    "ax = df.plot.scatter(x='agecell', y='mva', color=\"C0\")\n",
    "sns.scatterplot(x='agecell', y='mva', data=df)\n",
    "plt.title(\"Death Cause by Age \")\n",
    "plt.axvline(21, 0,105, color=\"red\")\n",
    "plt.ylabel('Death cause: moving vehicle accident')\n",
    "plt.xlabel('')\n",
    "\n",
    "model1 = smf.wls(\"mva~agecell+threshold+agecell*threshold\", df).fit()\n",
    "df.assign(predictions=model1.fittedvalues).plot(x=\"agecell\", y=\"predictions\", ax=ax, color=\"C1\")\n",
    "plt.title(\"Regression Discontinuity\");"
   ]
  },
  {
   "cell_type": "code",
   "execution_count": 20,
   "id": "ccc37f7c",
   "metadata": {
    "scrolled": false
   },
   "outputs": [
    {
     "data": {
      "text/html": [
       "<table style=\"text-align:center\"><tr><td colspan=\"5\" style=\"border-bottom: 1px solid black\"></td></tr><tr><td style=\"text-align:left\"></td><td colspan=\"4\"><em>Dependent variable:mva</em></td></tr><tr><td style=\"text-align:left\"></td><tr><td style=\"text-align:left\"></td><td>(1)</td><td>(2)</td><td>(3)</td><td>(4)</td></tr><tr><td colspan=\"5\" style=\"border-bottom: 1px solid black\"></td></tr><tr><td style=\"text-align:left\">Intercept</td><td>32.462<sup>***</sup></td><td>95.481<sup>***</sup></td><td>-28.378<sup></sup></td><td>83.849<sup>***</sup></td></tr><tr><td style=\"text-align:left\"></td><td>(0.460)</td><td>(6.755)</td><td>(71.524)</td><td>(9.333)</td></tr><tr><td style=\"text-align:left\">age_2</td><td></td><td></td><td>-0.282<sup>*</sup></td><td></td></tr><tr><td style=\"text-align:left\"></td><td></td><td></td><td>(0.162)</td><td></td></tr><tr><td style=\"text-align:left\">age_d</td><td></td><td></td><td></td><td>-1.162<sup>*</sup></td></tr><tr><td style=\"text-align:left\"></td><td></td><td></td><td></td><td>(0.659)</td></tr><tr><td style=\"text-align:left\">agecell</td><td></td><td>-3.149<sup>***</sup></td><td>8.682<sup></sup></td><td>-2.568<sup>***</sup></td></tr><tr><td style=\"text-align:left\"></td><td></td><td>(0.337)</td><td>(6.811)</td><td>(0.466)</td></tr><tr><td style=\"text-align:left\">threshold[T.True]</td><td>-1.677<sup>**</sup></td><td>4.534<sup>***</sup></td><td>4.534<sup>***</sup></td><td>28.945<sup>**</sup></td></tr><tr><td style=\"text-align:left\"></td><td>(0.651)</td><td>(0.768)</td><td>(0.751)</td><td>(13.864)</td></tr><td colspan=\"5\" style=\"border-bottom: 1px solid black\"></td></tr><tr><td style=\"text-align: left\">Observations</td><td>48</td><td>48</td><td>48</td><td>48</td></tr><tr><td style=\"text-align: left\">R<sup>2</sup></td><td>0.126</td><td>0.703</td><td>0.722</td><td>0.722</td></tr><tr><td style=\"text-align: left\">Adjusted R<sup>2</sup></td><td>0.107</td><td>0.689</td><td>0.703</td><td>0.703</td></tr><tr><td style=\"text-align: left\">Residual Std. Error</td><td>2.253 (df=46)</td><td>1.329 (df=45)</td><td>1.300 (df=44)</td><td>1.299 (df=44)</td></tr><tr><td style=\"text-align: left\">F Statistic</td><td>6.649<sup>**</sup> (df=1; 46)</td><td>53.142<sup>***</sup> (df=2; 45)</td><td>38.030<sup>***</sup> (df=3; 44)</td><td>38.125<sup>***</sup> (df=3; 44)</td></tr><tr><td colspan=\"5\" style=\"border-bottom: 1px solid black\"></td></tr><tr><td style=\"text-align: left\">Note:</td>\n",
       " <td colspan=\"4\" style=\"text-align: right\">\n",
       "  <sup>*</sup>p&lt;0.1;\n",
       "  <sup>**</sup>p&lt;0.05;\n",
       "  <sup>***</sup>p&lt;0.01\n",
       " </td></tr></table>"
      ],
      "text/plain": [
       "<stargazer.stargazer.Stargazer at 0x1a19ea5fdf0>"
      ]
     },
     "execution_count": 20,
     "metadata": {},
     "output_type": "execute_result"
    }
   ],
   "source": [
    "#Better looking table\n",
    "results1 = smf.ols('mva~threshold', data=df).fit()\n",
    "results2 = smf.ols('mva~agecell+threshold', data=df).fit()\n",
    "results3 = smf.ols('mva~agecell+age_2+threshold', data=df).fit()\n",
    "results4 = smf.ols('mva~agecell+threshold+age_d', data=df).fit()\n",
    "\n",
    "stargazer_tab = Stargazer([results1, results2,  results3, results4])\n",
    "# Using a Python interactive window, simply run the \n",
    "# name of the object to display the table\n",
    "stargazer_tab\n",
    "#note that -1.162*21+28.945=4.543"
   ]
  },
  {
   "cell_type": "markdown",
   "id": "e5912859",
   "metadata": {},
   "source": [
    "**Note:**"
   ]
  },
  {
   "cell_type": "code",
   "execution_count": 9,
   "id": "620eca94",
   "metadata": {},
   "outputs": [
    {
     "data": {
      "text/html": [
       "<table style=\"text-align:center\"><tr><td colspan=\"4\" style=\"border-bottom: 1px solid black\"></td></tr><tr><td style=\"text-align:left\"></td><td colspan=\"3\"><em>Dependent variable:mva</em></td></tr><tr><td style=\"text-align:left\"></td><tr><td style=\"text-align:left\"></td><td>(1)</td><td>(2)</td><td>(3)</td></tr><tr><td colspan=\"4\" style=\"border-bottom: 1px solid black\"></td></tr><tr><td style=\"text-align:left\">Intercept</td><td>95.481<sup>***</sup></td><td>103.399<sup>***</sup></td><td>102.421<sup>***</sup></td></tr><tr><td style=\"text-align:left\"></td><td>(6.755)</td><td>(10.765)</td><td>(19.794)</td></tr><tr><td style=\"text-align:left\">agecell</td><td>-3.149<sup>***</sup></td><td>-3.525<sup>***</sup></td><td>-3.468<sup>***</sup></td></tr><tr><td style=\"text-align:left\"></td><td>(0.337)</td><td>(0.531)</td><td>(0.965)</td></tr><tr><td style=\"text-align:left\">threshold[T.True]</td><td>4.534<sup>***</sup></td><td>4.901<sup>***</sup></td><td>4.759<sup>***</sup></td></tr><tr><td style=\"text-align:left\"></td><td>(0.768)</td><td>(0.907)</td><td>(1.098)</td></tr><td colspan=\"4\" style=\"border-bottom: 1px solid black\"></td></tr><tr><td style=\"text-align: left\">Observations</td><td>48</td><td>36</td><td>24</td></tr><tr><td style=\"text-align: left\">R<sup>2</sup></td><td>0.703</td><td>0.574</td><td>0.474</td></tr><tr><td style=\"text-align: left\">Adjusted R<sup>2</sup></td><td>0.689</td><td>0.549</td><td>0.423</td></tr><tr><td style=\"text-align: left\">Residual Std. Error</td><td>1.329 (df=45)</td><td>1.359 (df=33)</td><td>1.341 (df=21)</td></tr><tr><td style=\"text-align: left\">F Statistic</td><td>53.142<sup>***</sup> (df=2; 45)</td><td>22.264<sup>***</sup> (df=2; 33)</td><td>9.445<sup>***</sup> (df=2; 21)</td></tr><tr><td colspan=\"4\" style=\"border-bottom: 1px solid black\"></td></tr><tr><td style=\"text-align: left\">Note:</td>\n",
       " <td colspan=\"3\" style=\"text-align: right\">\n",
       "  <sup>*</sup>p&lt;0.1;\n",
       "  <sup>**</sup>p&lt;0.05;\n",
       "  <sup>***</sup>p&lt;0.01\n",
       " </td></tr></table>"
      ],
      "text/plain": [
       "<stargazer.stargazer.Stargazer at 0x2410076a040>"
      ]
     },
     "execution_count": 9,
     "metadata": {},
     "output_type": "execute_result"
    }
   ],
   "source": [
    "#Bandwith?\n",
    "ols1 = smf.ols('mva~agecell+threshold', data=df).fit()\n",
    "ols2 = smf.ols('mva~agecell+threshold', data=df[(df['agecell']>19.5) & (df['agecell']<22.5)]).fit()\n",
    "ols3 = smf.ols('mva~agecell+threshold', data=df[(df['agecell']>20) & (df['agecell']<22)]).fit()\n",
    "\n",
    "stargazer_tab = Stargazer([ols1, ols2, ols3])\n",
    "\n",
    "stargazer_tab"
   ]
  }
 ],
 "metadata": {
  "kernelspec": {
   "display_name": "Python 3 (ipykernel)",
   "language": "python",
   "name": "python3"
  },
  "language_info": {
   "codemirror_mode": {
    "name": "ipython",
    "version": 3
   },
   "file_extension": ".py",
   "mimetype": "text/x-python",
   "name": "python",
   "nbconvert_exporter": "python",
   "pygments_lexer": "ipython3",
   "version": "3.9.12"
  }
 },
 "nbformat": 4,
 "nbformat_minor": 5
}
